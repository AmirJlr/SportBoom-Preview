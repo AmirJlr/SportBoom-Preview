{
 "cells": [
  {
   "cell_type": "code",
   "execution_count": 1,
   "id": "22772248",
   "metadata": {},
   "outputs": [],
   "source": [
    "import numpy as np\n",
    "import pandas as pd\n",
    "import seaborn as sns\n",
    "import matplotlib.pyplot as plt\n",
    "from sklearn.metrics import precision_recall_fscore_support\n",
    "from sklearn.model_selection import train_test_split\n",
    "from sklearn.metrics import classification_report, confusion_matrix, ConfusionMatrixDisplay, accuracy_score\n",
    "\n",
    "\n",
    "from sklearn.svm import SVC\n",
    "from sklearn.naive_bayes import GaussianNB\n",
    "from sklearn.cluster import KMeans\n",
    "from sklearn.decomposition import PCA\n",
    "\n",
    "from sklearn.model_selection import GridSearchCV, RandomizedSearchCV\n",
    "from scipy import stats\n",
    "\n",
    "import warnings\n",
    "warnings.filterwarnings('ignore')"
   ]
  },
  {
   "cell_type": "code",
   "execution_count": 2,
   "id": "97c97f86",
   "metadata": {},
   "outputs": [],
   "source": [
    "data = pd.read_csv(\"FData.csv\")"
   ]
  },
  {
   "cell_type": "code",
   "execution_count": 3,
   "id": "a3746a59",
   "metadata": {},
   "outputs": [
    {
     "data": {
      "text/html": [
       "<div>\n",
       "<style scoped>\n",
       "    .dataframe tbody tr th:only-of-type {\n",
       "        vertical-align: middle;\n",
       "    }\n",
       "\n",
       "    .dataframe tbody tr th {\n",
       "        vertical-align: top;\n",
       "    }\n",
       "\n",
       "    .dataframe thead th {\n",
       "        text-align: right;\n",
       "    }\n",
       "</style>\n",
       "<table border=\"1\" class=\"dataframe\">\n",
       "  <thead>\n",
       "    <tr style=\"text-align: right;\">\n",
       "      <th></th>\n",
       "      <th>Unnamed: 0</th>\n",
       "      <th>date</th>\n",
       "      <th>time</th>\n",
       "      <th>round</th>\n",
       "      <th>day</th>\n",
       "      <th>venue</th>\n",
       "      <th>result</th>\n",
       "      <th>gf</th>\n",
       "      <th>ga</th>\n",
       "      <th>opponent</th>\n",
       "      <th>...</th>\n",
       "      <th>hour</th>\n",
       "      <th>day_code</th>\n",
       "      <th>gf_rolling</th>\n",
       "      <th>ga_rolling</th>\n",
       "      <th>sh_rolling</th>\n",
       "      <th>sot_rolling</th>\n",
       "      <th>dist_rolling</th>\n",
       "      <th>fk_rolling</th>\n",
       "      <th>pk_rolling</th>\n",
       "      <th>pkatt_rolling</th>\n",
       "    </tr>\n",
       "  </thead>\n",
       "  <tbody>\n",
       "    <tr>\n",
       "      <th>0</th>\n",
       "      <td>0</td>\n",
       "      <td>2021-09-11</td>\n",
       "      <td>15:00</td>\n",
       "      <td>Matchweek 4</td>\n",
       "      <td>Sat</td>\n",
       "      <td>Home</td>\n",
       "      <td>W</td>\n",
       "      <td>1.0</td>\n",
       "      <td>0.0</td>\n",
       "      <td>Norwich City</td>\n",
       "      <td>...</td>\n",
       "      <td>15</td>\n",
       "      <td>5</td>\n",
       "      <td>0.000000</td>\n",
       "      <td>3.000000</td>\n",
       "      <td>9.666667</td>\n",
       "      <td>2.333333</td>\n",
       "      <td>14.833333</td>\n",
       "      <td>0.333333</td>\n",
       "      <td>0.0</td>\n",
       "      <td>0.0</td>\n",
       "    </tr>\n",
       "    <tr>\n",
       "      <th>1</th>\n",
       "      <td>1</td>\n",
       "      <td>2021-09-18</td>\n",
       "      <td>15:00</td>\n",
       "      <td>Matchweek 5</td>\n",
       "      <td>Sat</td>\n",
       "      <td>Away</td>\n",
       "      <td>W</td>\n",
       "      <td>1.0</td>\n",
       "      <td>0.0</td>\n",
       "      <td>Burnley</td>\n",
       "      <td>...</td>\n",
       "      <td>15</td>\n",
       "      <td>5</td>\n",
       "      <td>0.333333</td>\n",
       "      <td>2.333333</td>\n",
       "      <td>12.333333</td>\n",
       "      <td>3.000000</td>\n",
       "      <td>14.133333</td>\n",
       "      <td>0.333333</td>\n",
       "      <td>0.0</td>\n",
       "      <td>0.0</td>\n",
       "    </tr>\n",
       "    <tr>\n",
       "      <th>2</th>\n",
       "      <td>2</td>\n",
       "      <td>2021-09-26</td>\n",
       "      <td>16:30</td>\n",
       "      <td>Matchweek 6</td>\n",
       "      <td>Sun</td>\n",
       "      <td>Home</td>\n",
       "      <td>W</td>\n",
       "      <td>3.0</td>\n",
       "      <td>1.0</td>\n",
       "      <td>Tottenham</td>\n",
       "      <td>...</td>\n",
       "      <td>16</td>\n",
       "      <td>6</td>\n",
       "      <td>0.666667</td>\n",
       "      <td>1.666667</td>\n",
       "      <td>14.666667</td>\n",
       "      <td>3.000000</td>\n",
       "      <td>14.800000</td>\n",
       "      <td>0.666667</td>\n",
       "      <td>0.0</td>\n",
       "      <td>0.0</td>\n",
       "    </tr>\n",
       "    <tr>\n",
       "      <th>3</th>\n",
       "      <td>3</td>\n",
       "      <td>2021-10-02</td>\n",
       "      <td>17:30</td>\n",
       "      <td>Matchweek 7</td>\n",
       "      <td>Sat</td>\n",
       "      <td>Away</td>\n",
       "      <td>D</td>\n",
       "      <td>0.0</td>\n",
       "      <td>0.0</td>\n",
       "      <td>Brighton</td>\n",
       "      <td>...</td>\n",
       "      <td>17</td>\n",
       "      <td>5</td>\n",
       "      <td>1.666667</td>\n",
       "      <td>0.333333</td>\n",
       "      <td>18.333333</td>\n",
       "      <td>5.333333</td>\n",
       "      <td>18.433333</td>\n",
       "      <td>0.666667</td>\n",
       "      <td>0.0</td>\n",
       "      <td>0.0</td>\n",
       "    </tr>\n",
       "    <tr>\n",
       "      <th>4</th>\n",
       "      <td>4</td>\n",
       "      <td>2021-10-18</td>\n",
       "      <td>20:00</td>\n",
       "      <td>Matchweek 8</td>\n",
       "      <td>Mon</td>\n",
       "      <td>Home</td>\n",
       "      <td>D</td>\n",
       "      <td>2.0</td>\n",
       "      <td>2.0</td>\n",
       "      <td>Crystal Palace</td>\n",
       "      <td>...</td>\n",
       "      <td>20</td>\n",
       "      <td>0</td>\n",
       "      <td>1.333333</td>\n",
       "      <td>0.333333</td>\n",
       "      <td>11.000000</td>\n",
       "      <td>4.000000</td>\n",
       "      <td>19.833333</td>\n",
       "      <td>0.666667</td>\n",
       "      <td>0.0</td>\n",
       "      <td>0.0</td>\n",
       "    </tr>\n",
       "  </tbody>\n",
       "</table>\n",
       "<p>5 rows × 39 columns</p>\n",
       "</div>"
      ],
      "text/plain": [
       "   Unnamed: 0        date   time        round  day venue result   gf   ga  \\\n",
       "0           0  2021-09-11  15:00  Matchweek 4  Sat  Home      W  1.0  0.0   \n",
       "1           1  2021-09-18  15:00  Matchweek 5  Sat  Away      W  1.0  0.0   \n",
       "2           2  2021-09-26  16:30  Matchweek 6  Sun  Home      W  3.0  1.0   \n",
       "3           3  2021-10-02  17:30  Matchweek 7  Sat  Away      D  0.0  0.0   \n",
       "4           4  2021-10-18  20:00  Matchweek 8  Mon  Home      D  2.0  2.0   \n",
       "\n",
       "         opponent  ...  hour  day_code  gf_rolling  ga_rolling sh_rolling  \\\n",
       "0    Norwich City  ...    15         5    0.000000    3.000000   9.666667   \n",
       "1         Burnley  ...    15         5    0.333333    2.333333  12.333333   \n",
       "2       Tottenham  ...    16         6    0.666667    1.666667  14.666667   \n",
       "3        Brighton  ...    17         5    1.666667    0.333333  18.333333   \n",
       "4  Crystal Palace  ...    20         0    1.333333    0.333333  11.000000   \n",
       "\n",
       "  sot_rolling dist_rolling fk_rolling  pk_rolling  pkatt_rolling  \n",
       "0    2.333333    14.833333   0.333333         0.0            0.0  \n",
       "1    3.000000    14.133333   0.333333         0.0            0.0  \n",
       "2    3.000000    14.800000   0.666667         0.0            0.0  \n",
       "3    5.333333    18.433333   0.666667         0.0            0.0  \n",
       "4    4.000000    19.833333   0.666667         0.0            0.0  \n",
       "\n",
       "[5 rows x 39 columns]"
      ]
     },
     "execution_count": 3,
     "metadata": {},
     "output_type": "execute_result"
    }
   ],
   "source": [
    "data.head()"
   ]
  },
  {
   "cell_type": "code",
   "execution_count": 4,
   "id": "18e117f6",
   "metadata": {},
   "outputs": [
    {
     "name": "stdout",
     "output_type": "stream",
     "text": [
      "<class 'pandas.core.frame.DataFrame'>\n",
      "RangeIndex: 979 entries, 0 to 978\n",
      "Data columns (total 39 columns):\n",
      " #   Column         Non-Null Count  Dtype  \n",
      "---  ------         --------------  -----  \n",
      " 0   Unnamed: 0     979 non-null    int64  \n",
      " 1   date           979 non-null    object \n",
      " 2   time           979 non-null    object \n",
      " 3   round          979 non-null    object \n",
      " 4   day            979 non-null    object \n",
      " 5   venue          979 non-null    object \n",
      " 6   result         979 non-null    object \n",
      " 7   gf             979 non-null    float64\n",
      " 8   ga             979 non-null    float64\n",
      " 9   opponent       979 non-null    object \n",
      " 10  xg             979 non-null    float64\n",
      " 11  xga            979 non-null    float64\n",
      " 12  poss           979 non-null    float64\n",
      " 13  attendance     975 non-null    float64\n",
      " 14  captain        979 non-null    object \n",
      " 15  formation      979 non-null    object \n",
      " 16  referee        979 non-null    object \n",
      " 17  match report   979 non-null    object \n",
      " 18  sh             979 non-null    float64\n",
      " 19  sot            979 non-null    float64\n",
      " 20  dist           979 non-null    float64\n",
      " 21  fk             979 non-null    float64\n",
      " 22  pk             979 non-null    float64\n",
      " 23  pkatt          979 non-null    float64\n",
      " 24  season         979 non-null    int64  \n",
      " 25  team           979 non-null    object \n",
      " 26  target         979 non-null    int64  \n",
      " 27  venue_code     979 non-null    int64  \n",
      " 28  opp_code       979 non-null    int64  \n",
      " 29  hour           979 non-null    int64  \n",
      " 30  day_code       979 non-null    int64  \n",
      " 31  gf_rolling     979 non-null    float64\n",
      " 32  ga_rolling     979 non-null    float64\n",
      " 33  sh_rolling     979 non-null    float64\n",
      " 34  sot_rolling    979 non-null    float64\n",
      " 35  dist_rolling   979 non-null    float64\n",
      " 36  fk_rolling     979 non-null    float64\n",
      " 37  pk_rolling     979 non-null    float64\n",
      " 38  pkatt_rolling  979 non-null    float64\n",
      "dtypes: float64(20), int64(7), object(12)\n",
      "memory usage: 298.4+ KB\n"
     ]
    }
   ],
   "source": [
    "data.info()"
   ]
  },
  {
   "cell_type": "code",
   "execution_count": 5,
   "id": "67bdff18",
   "metadata": {},
   "outputs": [],
   "source": [
    "data = data[['venue_code','opp_code','hour','day_code','gf_rolling','ga_rolling','sh_rolling','sot_rolling','dist_rolling','pk_rolling','pkatt_rolling','target']]"
   ]
  },
  {
   "cell_type": "code",
   "execution_count": 6,
   "id": "b122e6a2",
   "metadata": {},
   "outputs": [],
   "source": [
    "data.rename({'target':'Win'},axis=1, inplace=True)"
   ]
  },
  {
   "cell_type": "code",
   "execution_count": 7,
   "id": "5f9f2f4f",
   "metadata": {},
   "outputs": [
    {
     "data": {
      "text/html": [
       "<div>\n",
       "<style scoped>\n",
       "    .dataframe tbody tr th:only-of-type {\n",
       "        vertical-align: middle;\n",
       "    }\n",
       "\n",
       "    .dataframe tbody tr th {\n",
       "        vertical-align: top;\n",
       "    }\n",
       "\n",
       "    .dataframe thead th {\n",
       "        text-align: right;\n",
       "    }\n",
       "</style>\n",
       "<table border=\"1\" class=\"dataframe\">\n",
       "  <thead>\n",
       "    <tr style=\"text-align: right;\">\n",
       "      <th></th>\n",
       "      <th>venue_code</th>\n",
       "      <th>opp_code</th>\n",
       "      <th>hour</th>\n",
       "      <th>day_code</th>\n",
       "      <th>gf_rolling</th>\n",
       "      <th>ga_rolling</th>\n",
       "      <th>sh_rolling</th>\n",
       "      <th>sot_rolling</th>\n",
       "      <th>dist_rolling</th>\n",
       "      <th>pk_rolling</th>\n",
       "      <th>pkatt_rolling</th>\n",
       "      <th>Win</th>\n",
       "    </tr>\n",
       "  </thead>\n",
       "  <tbody>\n",
       "    <tr>\n",
       "      <th>0</th>\n",
       "      <td>1</td>\n",
       "      <td>16</td>\n",
       "      <td>15</td>\n",
       "      <td>5</td>\n",
       "      <td>0.000000</td>\n",
       "      <td>3.000000</td>\n",
       "      <td>9.666667</td>\n",
       "      <td>2.333333</td>\n",
       "      <td>14.833333</td>\n",
       "      <td>0.0</td>\n",
       "      <td>0.0</td>\n",
       "      <td>1</td>\n",
       "    </tr>\n",
       "    <tr>\n",
       "      <th>1</th>\n",
       "      <td>0</td>\n",
       "      <td>5</td>\n",
       "      <td>15</td>\n",
       "      <td>5</td>\n",
       "      <td>0.333333</td>\n",
       "      <td>2.333333</td>\n",
       "      <td>12.333333</td>\n",
       "      <td>3.000000</td>\n",
       "      <td>14.133333</td>\n",
       "      <td>0.0</td>\n",
       "      <td>0.0</td>\n",
       "      <td>1</td>\n",
       "    </tr>\n",
       "    <tr>\n",
       "      <th>2</th>\n",
       "      <td>1</td>\n",
       "      <td>19</td>\n",
       "      <td>16</td>\n",
       "      <td>6</td>\n",
       "      <td>0.666667</td>\n",
       "      <td>1.666667</td>\n",
       "      <td>14.666667</td>\n",
       "      <td>3.000000</td>\n",
       "      <td>14.800000</td>\n",
       "      <td>0.0</td>\n",
       "      <td>0.0</td>\n",
       "      <td>1</td>\n",
       "    </tr>\n",
       "    <tr>\n",
       "      <th>3</th>\n",
       "      <td>0</td>\n",
       "      <td>4</td>\n",
       "      <td>17</td>\n",
       "      <td>5</td>\n",
       "      <td>1.666667</td>\n",
       "      <td>0.333333</td>\n",
       "      <td>18.333333</td>\n",
       "      <td>5.333333</td>\n",
       "      <td>18.433333</td>\n",
       "      <td>0.0</td>\n",
       "      <td>0.0</td>\n",
       "      <td>0</td>\n",
       "    </tr>\n",
       "    <tr>\n",
       "      <th>4</th>\n",
       "      <td>1</td>\n",
       "      <td>7</td>\n",
       "      <td>20</td>\n",
       "      <td>0</td>\n",
       "      <td>1.333333</td>\n",
       "      <td>0.333333</td>\n",
       "      <td>11.000000</td>\n",
       "      <td>4.000000</td>\n",
       "      <td>19.833333</td>\n",
       "      <td>0.0</td>\n",
       "      <td>0.0</td>\n",
       "      <td>0</td>\n",
       "    </tr>\n",
       "  </tbody>\n",
       "</table>\n",
       "</div>"
      ],
      "text/plain": [
       "   venue_code  opp_code  hour  day_code  gf_rolling  ga_rolling  sh_rolling  \\\n",
       "0           1        16    15         5    0.000000    3.000000    9.666667   \n",
       "1           0         5    15         5    0.333333    2.333333   12.333333   \n",
       "2           1        19    16         6    0.666667    1.666667   14.666667   \n",
       "3           0         4    17         5    1.666667    0.333333   18.333333   \n",
       "4           1         7    20         0    1.333333    0.333333   11.000000   \n",
       "\n",
       "   sot_rolling  dist_rolling  pk_rolling  pkatt_rolling  Win  \n",
       "0     2.333333     14.833333         0.0            0.0    1  \n",
       "1     3.000000     14.133333         0.0            0.0    1  \n",
       "2     3.000000     14.800000         0.0            0.0    1  \n",
       "3     5.333333     18.433333         0.0            0.0    0  \n",
       "4     4.000000     19.833333         0.0            0.0    0  "
      ]
     },
     "execution_count": 7,
     "metadata": {},
     "output_type": "execute_result"
    }
   ],
   "source": [
    "data.head()"
   ]
  },
  {
   "cell_type": "code",
   "execution_count": 8,
   "id": "dea0f480",
   "metadata": {},
   "outputs": [
    {
     "name": "stdout",
     "output_type": "stream",
     "text": [
      "<class 'pandas.core.frame.DataFrame'>\n",
      "RangeIndex: 979 entries, 0 to 978\n",
      "Data columns (total 12 columns):\n",
      " #   Column         Non-Null Count  Dtype  \n",
      "---  ------         --------------  -----  \n",
      " 0   venue_code     979 non-null    int64  \n",
      " 1   opp_code       979 non-null    int64  \n",
      " 2   hour           979 non-null    int64  \n",
      " 3   day_code       979 non-null    int64  \n",
      " 4   gf_rolling     979 non-null    float64\n",
      " 5   ga_rolling     979 non-null    float64\n",
      " 6   sh_rolling     979 non-null    float64\n",
      " 7   sot_rolling    979 non-null    float64\n",
      " 8   dist_rolling   979 non-null    float64\n",
      " 9   pk_rolling     979 non-null    float64\n",
      " 10  pkatt_rolling  979 non-null    float64\n",
      " 11  Win            979 non-null    int64  \n",
      "dtypes: float64(7), int64(5)\n",
      "memory usage: 91.9 KB\n"
     ]
    }
   ],
   "source": [
    "data.info()"
   ]
  },
  {
   "cell_type": "code",
   "execution_count": 9,
   "id": "a8f023e9",
   "metadata": {},
   "outputs": [],
   "source": [
    "X = data.drop('Win', axis =1)\n",
    "y = data['Win']"
   ]
  },
  {
   "cell_type": "code",
   "execution_count": 11,
   "id": "80b90ba1",
   "metadata": {},
   "outputs": [],
   "source": [
    "X_train, X_test, y_train, y_test = train_test_split(X, y, random_state=1)"
   ]
  },
  {
   "cell_type": "code",
   "execution_count": 13,
   "id": "d69b9526",
   "metadata": {},
   "outputs": [],
   "source": [
    "svm = SVC()"
   ]
  },
  {
   "cell_type": "code",
   "execution_count": 14,
   "id": "3bf8cdbe",
   "metadata": {},
   "outputs": [
    {
     "data": {
      "text/plain": [
       "SVC()"
      ]
     },
     "execution_count": 14,
     "metadata": {},
     "output_type": "execute_result"
    }
   ],
   "source": [
    "svm.fit(X_train, y_train)"
   ]
  },
  {
   "cell_type": "code",
   "execution_count": 15,
   "id": "2e5cbfb6",
   "metadata": {},
   "outputs": [],
   "source": [
    "svm_prediction = svm.predict(X_test)"
   ]
  },
  {
   "cell_type": "code",
   "execution_count": 17,
   "id": "e4fe25eb",
   "metadata": {},
   "outputs": [
    {
     "data": {
      "image/png": "[encoded data removed]",
      "text/plain": [
       "<Figure size 640x480 with 2 Axes>"
      ]
     },
     "metadata": {},
     "output_type": "display_data"
    }
   ],
   "source": [
    "cm = confusion_matrix(y_test, svm_prediction)\n",
    "cm_plot = ConfusionMatrixDisplay(cm, display_labels=svm.classes_).plot()"
   ]
  },
  {
   "cell_type": "code",
   "execution_count": 18,
   "id": "aff24cbd",
   "metadata": {},
   "outputs": [
    {
     "name": "stdout",
     "output_type": "stream",
     "text": [
      "              precision    recall  f1-score   support\n",
      "\n",
      "           0       0.58      0.96      0.72       141\n",
      "           1       0.50      0.05      0.09       104\n",
      "\n",
      "    accuracy                           0.58       245\n",
      "   macro avg       0.54      0.51      0.41       245\n",
      "weighted avg       0.55      0.58      0.45       245\n",
      "\n"
     ]
    }
   ],
   "source": [
    "print(classification_report(y_test, svm_prediction))"
   ]
  },
  {
   "cell_type": "code",
   "execution_count": 19,
   "id": "788846f7",
   "metadata": {},
   "outputs": [
    {
     "data": {
      "text/plain": [
       "0.5755102040816327"
      ]
     },
     "execution_count": 19,
     "metadata": {},
     "output_type": "execute_result"
    }
   ],
   "source": [
    "accuracy_score(y_test, svm_prediction)"
   ]
  },
  {
   "cell_type": "code",
   "execution_count": 20,
   "id": "47ea8afa",
   "metadata": {},
   "outputs": [
    {
     "data": {
      "image/png": "[encoded data removed]",
      "text/plain": [
       "<Figure size 1000x1000 with 2 Axes>"
      ]
     },
     "metadata": {},
     "output_type": "display_data"
    }
   ],
   "source": [
    "def plot_classification_report(y_tru, y_prd, figsize=(10, 10), ax=None):\n",
    "\n",
    "    plt.figure(figsize=figsize)\n",
    "\n",
    "    xticks = ['precision', 'recall', 'f1-score', 'support']\n",
    "    yticks = list(np.unique(y_tru))\n",
    "    yticks += ['avg']\n",
    "\n",
    "    rep = np.array(precision_recall_fscore_support(y_tru, y_prd)).T\n",
    "    avg = np.mean(rep, axis=0)\n",
    "    avg[-1] = np.sum(rep[:, -1])\n",
    "    rep = np.insert(rep, rep.shape[0], avg, axis=0)\n",
    "\n",
    "    sns.heatmap(rep,\n",
    "                annot=True, \n",
    "                cbar=True, \n",
    "                xticklabels=xticks, \n",
    "                yticklabels=yticks,\n",
    "                ax=ax,\n",
    "                cmap=\"Greens\")\n",
    "\n",
    "plot_classification_report(y_test, svm_prediction)"
   ]
  },
  {
   "cell_type": "markdown",
   "id": "eff110b9",
   "metadata": {},
   "source": [
    "# Grid Search"
   ]
  },
  {
   "cell_type": "code",
   "execution_count": 22,
   "id": "dfd71459",
   "metadata": {},
   "outputs": [],
   "source": [
    "param_grid = { \n",
    "    'C':[0.1,1,100],\n",
    "    'kernel':['rbf','poly','sigmoid','linear'],\n",
    "    'degree':[1,2,3,4,5,6],\n",
    "    'gamma': [1, 0.1, 0.01, 0.001, 0.0001]\n",
    "}"
   ]
  },
  {
   "cell_type": "code",
   "execution_count": 23,
   "id": "bcb86292",
   "metadata": {},
   "outputs": [],
   "source": [
    "# grid_svm = GridSearchCV(SVC(), param_grid=param_grid)\n",
    "# grid_svm.fit(X_train, y_train)\n",
    "# print(grid_svm.best_params_)\n",
    "# print(grid_svm.best_estimator_)\n",
    "\n",
    "# grid_predictions = grid_svm.predict(X_test)\n",
    "  \n",
    "# # print classification report\n",
    "# print(classification_report(y_test, grid_predictions))"
   ]
  },
  {
   "cell_type": "markdown",
   "id": "1c2a957d",
   "metadata": {},
   "source": [
    "### Params Grid1:"
   ]
  },
  {
   "cell_type": "code",
   "execution_count": 24,
   "id": "8c0e9bd5",
   "metadata": {},
   "outputs": [],
   "source": [
    "param_grid1={\n",
    "    'kernel':['poly'],\n",
    "    'degree':[1,2,3,4],\n",
    "}"
   ]
  },
  {
   "cell_type": "code",
   "execution_count": 25,
   "id": "18ad5a38",
   "metadata": {},
   "outputs": [
    {
     "name": "stdout",
     "output_type": "stream",
     "text": [
      "{'degree': 4, 'kernel': 'poly'}\n",
      "SVC(degree=4, kernel='poly')\n"
     ]
    }
   ],
   "source": [
    "grid_svm1 = GridSearchCV(SVC(), param_grid=param_grid1)\n",
    "grid_svm1.fit(X_train, y_train)\n",
    "print(grid_svm1.best_params_)\n",
    "print(grid_svm1.best_estimator_)"
   ]
  },
  {
   "cell_type": "code",
   "execution_count": 26,
   "id": "3de18020",
   "metadata": {},
   "outputs": [
    {
     "name": "stdout",
     "output_type": "stream",
     "text": [
      "              precision    recall  f1-score   support\n",
      "\n",
      "           0       0.58      0.92      0.71       141\n",
      "           1       0.48      0.10      0.16       104\n",
      "\n",
      "    accuracy                           0.57       245\n",
      "   macro avg       0.53      0.51      0.44       245\n",
      "weighted avg       0.54      0.57      0.48       245\n",
      "\n"
     ]
    }
   ],
   "source": [
    "grid_predictions1 = grid_svm1.predict(X_test)\n",
    "  \n",
    "# print classification report\n",
    "print(classification_report(y_test, grid_predictions1))"
   ]
  },
  {
   "cell_type": "markdown",
   "id": "ac9c1c3e",
   "metadata": {},
   "source": [
    "### Params Grid2:"
   ]
  },
  {
   "cell_type": "code",
   "execution_count": 27,
   "id": "2e050c46",
   "metadata": {},
   "outputs": [],
   "source": [
    "param_grid2={\n",
    "    'gamma': [1, 0.1, 0.01, 0.001, 0.0001],\n",
    "    'kernel':['rbf']\n",
    "}"
   ]
  },
  {
   "cell_type": "code",
   "execution_count": 28,
   "id": "9c2ba5dc",
   "metadata": {},
   "outputs": [
    {
     "name": "stdout",
     "output_type": "stream",
     "text": [
      "{'gamma': 0.01, 'kernel': 'rbf'}\n",
      "SVC(gamma=0.01)\n"
     ]
    }
   ],
   "source": [
    "grid_svm2 = GridSearchCV(SVC(), param_grid=param_grid2)\n",
    "grid_svm2.fit(X_train, y_train)\n",
    "print(grid_svm2.best_params_)\n",
    "print(grid_svm2.best_estimator_)"
   ]
  },
  {
   "cell_type": "code",
   "execution_count": 29,
   "id": "151a6c93",
   "metadata": {},
   "outputs": [
    {
     "name": "stdout",
     "output_type": "stream",
     "text": [
      "              precision    recall  f1-score   support\n",
      "\n",
      "           0       0.58      0.87      0.70       141\n",
      "           1       0.46      0.15      0.23       104\n",
      "\n",
      "    accuracy                           0.56       245\n",
      "   macro avg       0.52      0.51      0.46       245\n",
      "weighted avg       0.53      0.56      0.50       245\n",
      "\n"
     ]
    }
   ],
   "source": [
    "grid_predictions2 = grid_svm2.predict(X_test)\n",
    "  \n",
    "# print classification report\n",
    "print(classification_report(y_test, grid_predictions2))"
   ]
  },
  {
   "cell_type": "markdown",
   "id": "c3f4d3e1",
   "metadata": {},
   "source": [
    "### Params Grid3:"
   ]
  },
  {
   "cell_type": "code",
   "execution_count": 30,
   "id": "508b4420",
   "metadata": {},
   "outputs": [],
   "source": [
    "param_grid3={\n",
    "    'gamma': [1, 0.1, 0.01, 0.001, 0.0001],\n",
    "    'kernel':['sigmoid']\n",
    "}"
   ]
  },
  {
   "cell_type": "code",
   "execution_count": 31,
   "id": "4c60e012",
   "metadata": {},
   "outputs": [
    {
     "name": "stdout",
     "output_type": "stream",
     "text": [
      "{'gamma': 1, 'kernel': 'sigmoid'}\n",
      "SVC(gamma=1, kernel='sigmoid')\n"
     ]
    }
   ],
   "source": [
    "grid_svm3 = GridSearchCV(SVC(), param_grid=param_grid3)\n",
    "grid_svm3.fit(X_train, y_train)\n",
    "print(grid_svm3.best_params_)\n",
    "print(grid_svm3.best_estimator_)"
   ]
  },
  {
   "cell_type": "code",
   "execution_count": 32,
   "id": "15900d64",
   "metadata": {},
   "outputs": [
    {
     "name": "stdout",
     "output_type": "stream",
     "text": [
      "              precision    recall  f1-score   support\n",
      "\n",
      "           0       0.58      1.00      0.73       141\n",
      "           1       0.00      0.00      0.00       104\n",
      "\n",
      "    accuracy                           0.58       245\n",
      "   macro avg       0.29      0.50      0.37       245\n",
      "weighted avg       0.33      0.58      0.42       245\n",
      "\n"
     ]
    }
   ],
   "source": [
    "grid_predictions3 = grid_svm3.predict(X_test)\n",
    "  \n",
    "# print classification report\n",
    "print(classification_report(y_test, grid_predictions3))"
   ]
  },
  {
   "cell_type": "markdown",
   "id": "9f24d1b7",
   "metadata": {},
   "source": [
    "### RandomizedSearchCV :"
   ]
  },
  {
   "cell_type": "code",
   "execution_count": 33,
   "id": "fa1b3629",
   "metadata": {},
   "outputs": [],
   "source": [
    "# RANDOM SEARCH FOR 20 COMBINATIONS OF PARAMETERS\n",
    "rand_list = {\"C\": stats.uniform(2, 10),\n",
    "             \"gamma\": stats.uniform(0.1, 1)}"
   ]
  },
  {
   "cell_type": "code",
   "execution_count": 34,
   "id": "2e037c50",
   "metadata": {},
   "outputs": [
    {
     "data": {
      "text/plain": [
       "{'mean_fit_time': array([0.02566592, 0.02166708, 0.01999871, 0.02366646, 0.02500041,\n",
       "        0.02566449, 0.02466671, 0.02433419, 0.01933185, 0.02400017,\n",
       "        0.02466464, 0.02733429, 0.02666593, 0.01966683, 0.02099888,\n",
       "        0.0196681 , 0.02066573, 0.02466591, 0.01733208, 0.023     ]),\n",
       " 'std_fit_time': array([0.00205445, 0.00524728, 0.00216053, 0.00094285, 0.00245068,\n",
       "        0.00471449, 0.00385855, 0.0009419 , 0.0004721 , 0.00432128,\n",
       "        0.00418986, 0.00449916, 0.00612781, 0.00046997, 0.00355919,\n",
       "        0.00249521, 0.00286819, 0.00471275, 0.00047019, 0.00355924]),\n",
       " 'mean_score_time': array([0.0203321 , 0.01833471, 0.01933018, 0.0240008 , 0.02166772,\n",
       "        0.02266598, 0.02900092, 0.02066684, 0.01833375, 0.01833336,\n",
       "        0.0273327 , 0.02366432, 0.01800052, 0.0166657 , 0.01700012,\n",
       "        0.0189987 , 0.01933352, 0.01999935, 0.01700036, 0.01667102]),\n",
       " 'std_score_time': array([3.39863259e-03, 4.78371568e-03, 1.69970656e-03, 4.90057112e-03,\n",
       "        1.88733644e-03, 3.68175769e-03, 4.96776300e-03, 2.35803190e-03,\n",
       "        1.88576242e-03, 2.62421664e-03, 2.62503418e-03, 5.73631570e-03,\n",
       "        2.44853358e-03, 1.69992423e-03, 2.24783192e-07, 2.44882564e-03,\n",
       "        1.24695899e-03, 3.74191726e-03, 8.16340395e-04, 9.43190354e-04]),\n",
       " 'param_C': masked_array(data=[6.17022004702574, 2.001143748173449,\n",
       "                    3.4675589081711307, 3.862602113776709,\n",
       "                    5.967674742306699, 6.191945144032948,\n",
       "                    4.0445224973151745, 2.2738759319792616,\n",
       "                    6.17304802367127, 3.403869385952338,\n",
       "                    10.007445686755366, 5.134241781592428,\n",
       "                    10.763891522960384, 2.8504421136977793,\n",
       "                    3.6983041956456892, 2.9834683383305007,\n",
       "                    11.57889530150502, 8.918771139504734,\n",
       "                    8.865009276815837, 2.182882773441918],\n",
       "              mask=[False, False, False, False, False, False, False, False,\n",
       "                    False, False, False, False, False, False, False, False,\n",
       "                    False, False, False, False],\n",
       "        fill_value='?',\n",
       "             dtype=object),\n",
       " 'param_gamma': masked_array(data=[0.8203244934421581, 0.40233257263183975,\n",
       "                    0.1923385947687978, 0.4455607270430477,\n",
       "                    0.6388167340033569, 0.7852195003967595,\n",
       "                    0.9781174363909454, 0.7704675101784022,\n",
       "                    0.6586898284457516, 0.29810148908487877,\n",
       "                    1.0682615757193976, 0.7923226156693141,\n",
       "                    0.9946066635038473, 0.13905478323288237,\n",
       "                    0.9781425034294131, 0.5211076250050521,\n",
       "                    0.633165284973017, 0.4155156310060629,\n",
       "                    0.9346256718973729, 0.8501443149449674],\n",
       "              mask=[False, False, False, False, False, False, False, False,\n",
       "                    False, False, False, False, False, False, False, False,\n",
       "                    False, False, False, False],\n",
       "        fill_value='?',\n",
       "             dtype=object),\n",
       " 'params': [{'C': 6.17022004702574, 'gamma': 0.8203244934421581},\n",
       "  {'C': 2.001143748173449, 'gamma': 0.40233257263183975},\n",
       "  {'C': 3.4675589081711307, 'gamma': 0.1923385947687978},\n",
       "  {'C': 3.862602113776709, 'gamma': 0.4455607270430477},\n",
       "  {'C': 5.967674742306699, 'gamma': 0.6388167340033569},\n",
       "  {'C': 6.191945144032948, 'gamma': 0.7852195003967595},\n",
       "  {'C': 4.0445224973151745, 'gamma': 0.9781174363909454},\n",
       "  {'C': 2.2738759319792616, 'gamma': 0.7704675101784022},\n",
       "  {'C': 6.17304802367127, 'gamma': 0.6586898284457516},\n",
       "  {'C': 3.403869385952338, 'gamma': 0.29810148908487877},\n",
       "  {'C': 10.007445686755366, 'gamma': 1.0682615757193976},\n",
       "  {'C': 5.134241781592428, 'gamma': 0.7923226156693141},\n",
       "  {'C': 10.763891522960384, 'gamma': 0.9946066635038473},\n",
       "  {'C': 2.8504421136977793, 'gamma': 0.13905478323288237},\n",
       "  {'C': 3.6983041956456892, 'gamma': 0.9781425034294131},\n",
       "  {'C': 2.9834683383305007, 'gamma': 0.5211076250050521},\n",
       "  {'C': 11.57889530150502, 'gamma': 0.633165284973017},\n",
       "  {'C': 8.918771139504734, 'gamma': 0.4155156310060629},\n",
       "  {'C': 8.865009276815837, 'gamma': 0.9346256718973729},\n",
       "  {'C': 2.182882773441918, 'gamma': 0.8501443149449674}],\n",
       " 'split0_test_score': array([0.6244898 , 0.60408163, 0.64489796, 0.60816327, 0.6244898 ,\n",
       "        0.6244898 , 0.62857143, 0.6244898 , 0.6244898 , 0.6244898 ,\n",
       "        0.62857143, 0.6244898 , 0.62857143, 0.64489796, 0.62857143,\n",
       "        0.6122449 , 0.62040816, 0.60408163, 0.62857143, 0.6244898 ]),\n",
       " 'split1_test_score': array([0.62040816, 0.6       , 0.6       , 0.60816327, 0.6122449 ,\n",
       "        0.61632653, 0.62040816, 0.62040816, 0.6122449 , 0.59183673,\n",
       "        0.62040816, 0.61632653, 0.62040816, 0.60408163, 0.62040816,\n",
       "        0.60816327, 0.6122449 , 0.6       , 0.62040816, 0.62040816]),\n",
       " 'split2_test_score': array([0.6147541 , 0.61065574, 0.62295082, 0.6147541 , 0.61885246,\n",
       "        0.6147541 , 0.62295082, 0.6147541 , 0.61885246, 0.6352459 ,\n",
       "        0.62295082, 0.6147541 , 0.62295082, 0.62704918, 0.62295082,\n",
       "        0.61065574, 0.61885246, 0.60655738, 0.62295082, 0.6147541 ]),\n",
       " 'mean_test_score': array([0.61988402, 0.60491246, 0.62261626, 0.61036021, 0.61852905,\n",
       "        0.61852347, 0.6239768 , 0.61988402, 0.61852905, 0.61719081,\n",
       "        0.6239768 , 0.61852347, 0.6239768 , 0.62534292, 0.6239768 ,\n",
       "        0.61035463, 0.61716851, 0.60354634, 0.6239768 , 0.61988402]),\n",
       " 'std_test_score': array([0.00399182, 0.00438968, 0.01833104, 0.00310695, 0.00500419,\n",
       "        0.00426739, 0.00341069, 0.00399182, 0.00500419, 0.01845798,\n",
       "        0.00341069, 0.00426739, 0.00341069, 0.01670682, 0.00341069,\n",
       "        0.00167987, 0.00353897, 0.00270366, 0.00341069, 0.00399182]),\n",
       " 'rank_test_score': array([ 8, 19,  7, 17, 11, 13,  2,  8, 11, 15,  2, 13,  2,  1,  2, 18, 16,\n",
       "        20,  2,  8])}"
      ]
     },
     "execution_count": 34,
     "metadata": {},
     "output_type": "execute_result"
    }
   ],
   "source": [
    "rand_search = RandomizedSearchCV(SVC(), param_distributions = rand_list, n_iter = 20, n_jobs = 4, cv = 3, random_state = 1) \n",
    "rand_search.fit(X_train, y_train) \n",
    "rand_search.cv_results_"
   ]
  },
  {
   "cell_type": "code",
   "execution_count": 35,
   "id": "100c5107",
   "metadata": {},
   "outputs": [
    {
     "name": "stdout",
     "output_type": "stream",
     "text": [
      "Best Score: 0.6253429240548678\n",
      "Best Hyperparameters: {'C': 2.8504421136977793, 'gamma': 0.13905478323288237}\n"
     ]
    }
   ],
   "source": [
    "# summarize result\n",
    "print('Best Score: %s' % rand_search.best_score_)\n",
    "print('Best Hyperparameters: %s' % rand_search.best_params_)"
   ]
  },
  {
   "cell_type": "code",
   "execution_count": 36,
   "id": "a677b745",
   "metadata": {},
   "outputs": [],
   "source": [
    "y_pred_rand = rand_search.predict(X_test)"
   ]
  },
  {
   "cell_type": "code",
   "execution_count": 37,
   "id": "b3a23e1b",
   "metadata": {},
   "outputs": [
    {
     "data": {
      "image/png": "[encoded data removed]",
      "text/plain": [
       "<Figure size 640x480 with 2 Axes>"
      ]
     },
     "metadata": {},
     "output_type": "display_data"
    }
   ],
   "source": [
    "cm = confusion_matrix(y_test, y_pred_rand)\n",
    "cm_plot = ConfusionMatrixDisplay(cm, display_labels=svm.classes_).plot()"
   ]
  },
  {
   "cell_type": "code",
   "execution_count": 38,
   "id": "869f719a",
   "metadata": {},
   "outputs": [
    {
     "data": {
      "image/png": "[encoded data removed]",
      "text/plain": [
       "<Figure size 1000x1000 with 2 Axes>"
      ]
     },
     "metadata": {},
     "output_type": "display_data"
    }
   ],
   "source": [
    "plot_classification_report(y_test, y_pred_rand)"
   ]
  },
  {
   "cell_type": "markdown",
   "id": "11117d24",
   "metadata": {},
   "source": [
    "## Naive Bayes Classifiers"
   ]
  },
  {
   "cell_type": "code",
   "execution_count": 39,
   "id": "d993c1de",
   "metadata": {},
   "outputs": [
    {
     "data": {
      "text/plain": [
       "GaussianNB()"
      ]
     },
     "execution_count": 39,
     "metadata": {},
     "output_type": "execute_result"
    }
   ],
   "source": [
    "nb = GaussianNB()\n",
    "nb.fit(X_train, y_train)"
   ]
  },
  {
   "cell_type": "code",
   "execution_count": 40,
   "id": "46730699",
   "metadata": {},
   "outputs": [],
   "source": [
    "y_pred_nb = nb.predict(X_test)"
   ]
  },
  {
   "cell_type": "code",
   "execution_count": 41,
   "id": "e7064701",
   "metadata": {},
   "outputs": [
    {
     "data": {
      "text/plain": [
       "0.5265306122448979"
      ]
     },
     "execution_count": 41,
     "metadata": {},
     "output_type": "execute_result"
    }
   ],
   "source": [
    "accuracy_score(y_test, y_pred_nb)"
   ]
  },
  {
   "cell_type": "code",
   "execution_count": 42,
   "id": "b014c23c",
   "metadata": {},
   "outputs": [
    {
     "name": "stdout",
     "output_type": "stream",
     "text": [
      "Naive Bayes score:  0.5265306122448979\n"
     ]
    }
   ],
   "source": [
    "print(\"Naive Bayes score: \",nb.score(X_test, y_test))"
   ]
  },
  {
   "cell_type": "code",
   "execution_count": 43,
   "id": "c0fcf8b2",
   "metadata": {},
   "outputs": [
    {
     "data": {
      "image/png": "[encoded data removed]",
      "text/plain": [
       "<Figure size 640x480 with 2 Axes>"
      ]
     },
     "metadata": {},
     "output_type": "display_data"
    }
   ],
   "source": [
    "cm = confusion_matrix(y_test, y_pred_nb)\n",
    "cm_plot = ConfusionMatrixDisplay(cm, display_labels=svm.classes_).plot()"
   ]
  },
  {
   "cell_type": "code",
   "execution_count": 44,
   "id": "33291621",
   "metadata": {},
   "outputs": [
    {
     "data": {
      "image/png": "[encoded data removed]",
      "text/plain": [
       "<Figure size 1000x1000 with 2 Axes>"
      ]
     },
     "metadata": {},
     "output_type": "display_data"
    }
   ],
   "source": [
    "plot_classification_report(y_test, y_pred_nb)"
   ]
  },
  {
   "cell_type": "markdown",
   "id": "5cb44e03",
   "metadata": {},
   "source": [
    "## K-MEANS"
   ]
  },
  {
   "cell_type": "code",
   "execution_count": 46,
   "id": "c82d8f2f",
   "metadata": {},
   "outputs": [],
   "source": [
    "data = pd.read_csv('matches.csv', index_col=0)"
   ]
  },
  {
   "cell_type": "code",
   "execution_count": 47,
   "id": "c0ce8b6a",
   "metadata": {},
   "outputs": [
    {
     "data": {
      "text/html": [
       "<div>\n",
       "<style scoped>\n",
       "    .dataframe tbody tr th:only-of-type {\n",
       "        vertical-align: middle;\n",
       "    }\n",
       "\n",
       "    .dataframe tbody tr th {\n",
       "        vertical-align: top;\n",
       "    }\n",
       "\n",
       "    .dataframe thead th {\n",
       "        text-align: right;\n",
       "    }\n",
       "</style>\n",
       "<table border=\"1\" class=\"dataframe\">\n",
       "  <thead>\n",
       "    <tr style=\"text-align: right;\">\n",
       "      <th></th>\n",
       "      <th>date</th>\n",
       "      <th>time</th>\n",
       "      <th>comp</th>\n",
       "      <th>round</th>\n",
       "      <th>day</th>\n",
       "      <th>venue</th>\n",
       "      <th>result</th>\n",
       "      <th>gf</th>\n",
       "      <th>ga</th>\n",
       "      <th>opponent</th>\n",
       "      <th>...</th>\n",
       "      <th>match report</th>\n",
       "      <th>notes</th>\n",
       "      <th>sh</th>\n",
       "      <th>sot</th>\n",
       "      <th>dist</th>\n",
       "      <th>fk</th>\n",
       "      <th>pk</th>\n",
       "      <th>pkatt</th>\n",
       "      <th>season</th>\n",
       "      <th>team</th>\n",
       "    </tr>\n",
       "  </thead>\n",
       "  <tbody>\n",
       "    <tr>\n",
       "      <th>0</th>\n",
       "      <td>2022-08-05</td>\n",
       "      <td>20:00</td>\n",
       "      <td>Premier League</td>\n",
       "      <td>Matchweek 1</td>\n",
       "      <td>Fri</td>\n",
       "      <td>Away</td>\n",
       "      <td>W</td>\n",
       "      <td>2.0</td>\n",
       "      <td>0.0</td>\n",
       "      <td>Crystal Palace</td>\n",
       "      <td>...</td>\n",
       "      <td>Match Report</td>\n",
       "      <td>NaN</td>\n",
       "      <td>10.0</td>\n",
       "      <td>2.0</td>\n",
       "      <td>14.6</td>\n",
       "      <td>1.0</td>\n",
       "      <td>0.0</td>\n",
       "      <td>0.0</td>\n",
       "      <td>2022</td>\n",
       "      <td>Arsenal</td>\n",
       "    </tr>\n",
       "    <tr>\n",
       "      <th>1</th>\n",
       "      <td>2022-08-13</td>\n",
       "      <td>15:00</td>\n",
       "      <td>Premier League</td>\n",
       "      <td>Matchweek 2</td>\n",
       "      <td>Sat</td>\n",
       "      <td>Home</td>\n",
       "      <td>W</td>\n",
       "      <td>4.0</td>\n",
       "      <td>2.0</td>\n",
       "      <td>Leicester City</td>\n",
       "      <td>...</td>\n",
       "      <td>Match Report</td>\n",
       "      <td>NaN</td>\n",
       "      <td>19.0</td>\n",
       "      <td>7.0</td>\n",
       "      <td>13.0</td>\n",
       "      <td>0.0</td>\n",
       "      <td>0.0</td>\n",
       "      <td>0.0</td>\n",
       "      <td>2022</td>\n",
       "      <td>Arsenal</td>\n",
       "    </tr>\n",
       "    <tr>\n",
       "      <th>2</th>\n",
       "      <td>2022-08-20</td>\n",
       "      <td>17:30</td>\n",
       "      <td>Premier League</td>\n",
       "      <td>Matchweek 3</td>\n",
       "      <td>Sat</td>\n",
       "      <td>Away</td>\n",
       "      <td>W</td>\n",
       "      <td>3.0</td>\n",
       "      <td>0.0</td>\n",
       "      <td>Bournemouth</td>\n",
       "      <td>...</td>\n",
       "      <td>Match Report</td>\n",
       "      <td>NaN</td>\n",
       "      <td>14.0</td>\n",
       "      <td>6.0</td>\n",
       "      <td>14.8</td>\n",
       "      <td>0.0</td>\n",
       "      <td>0.0</td>\n",
       "      <td>0.0</td>\n",
       "      <td>2022</td>\n",
       "      <td>Arsenal</td>\n",
       "    </tr>\n",
       "    <tr>\n",
       "      <th>3</th>\n",
       "      <td>2022-08-27</td>\n",
       "      <td>17:30</td>\n",
       "      <td>Premier League</td>\n",
       "      <td>Matchweek 4</td>\n",
       "      <td>Sat</td>\n",
       "      <td>Home</td>\n",
       "      <td>W</td>\n",
       "      <td>2.0</td>\n",
       "      <td>1.0</td>\n",
       "      <td>Fulham</td>\n",
       "      <td>...</td>\n",
       "      <td>Match Report</td>\n",
       "      <td>NaN</td>\n",
       "      <td>22.0</td>\n",
       "      <td>8.0</td>\n",
       "      <td>15.5</td>\n",
       "      <td>1.0</td>\n",
       "      <td>0.0</td>\n",
       "      <td>0.0</td>\n",
       "      <td>2022</td>\n",
       "      <td>Arsenal</td>\n",
       "    </tr>\n",
       "    <tr>\n",
       "      <th>4</th>\n",
       "      <td>2022-08-31</td>\n",
       "      <td>19:30</td>\n",
       "      <td>Premier League</td>\n",
       "      <td>Matchweek 5</td>\n",
       "      <td>Wed</td>\n",
       "      <td>Home</td>\n",
       "      <td>W</td>\n",
       "      <td>2.0</td>\n",
       "      <td>1.0</td>\n",
       "      <td>Aston Villa</td>\n",
       "      <td>...</td>\n",
       "      <td>Match Report</td>\n",
       "      <td>NaN</td>\n",
       "      <td>22.0</td>\n",
       "      <td>8.0</td>\n",
       "      <td>16.3</td>\n",
       "      <td>1.0</td>\n",
       "      <td>0.0</td>\n",
       "      <td>0.0</td>\n",
       "      <td>2022</td>\n",
       "      <td>Arsenal</td>\n",
       "    </tr>\n",
       "  </tbody>\n",
       "</table>\n",
       "<p>5 rows × 27 columns</p>\n",
       "</div>"
      ],
      "text/plain": [
       "         date   time            comp        round  day venue result   gf   ga  \\\n",
       "0  2022-08-05  20:00  Premier League  Matchweek 1  Fri  Away      W  2.0  0.0   \n",
       "1  2022-08-13  15:00  Premier League  Matchweek 2  Sat  Home      W  4.0  2.0   \n",
       "2  2022-08-20  17:30  Premier League  Matchweek 3  Sat  Away      W  3.0  0.0   \n",
       "3  2022-08-27  17:30  Premier League  Matchweek 4  Sat  Home      W  2.0  1.0   \n",
       "4  2022-08-31  19:30  Premier League  Matchweek 5  Wed  Home      W  2.0  1.0   \n",
       "\n",
       "         opponent  ...  match report  notes    sh  sot  dist   fk   pk pkatt  \\\n",
       "0  Crystal Palace  ...  Match Report    NaN  10.0  2.0  14.6  1.0  0.0   0.0   \n",
       "1  Leicester City  ...  Match Report    NaN  19.0  7.0  13.0  0.0  0.0   0.0   \n",
       "2     Bournemouth  ...  Match Report    NaN  14.0  6.0  14.8  0.0  0.0   0.0   \n",
       "3          Fulham  ...  Match Report    NaN  22.0  8.0  15.5  1.0  0.0   0.0   \n",
       "4     Aston Villa  ...  Match Report    NaN  22.0  8.0  16.3  1.0  0.0   0.0   \n",
       "\n",
       "   season     team  \n",
       "0    2022  Arsenal  \n",
       "1    2022  Arsenal  \n",
       "2    2022  Arsenal  \n",
       "3    2022  Arsenal  \n",
       "4    2022  Arsenal  \n",
       "\n",
       "[5 rows x 27 columns]"
      ]
     },
     "execution_count": 47,
     "metadata": {},
     "output_type": "execute_result"
    }
   ],
   "source": [
    "data.head()"
   ]
  },
  {
   "cell_type": "code",
   "execution_count": 48,
   "id": "d3167466",
   "metadata": {},
   "outputs": [
    {
     "data": {
      "text/html": [
       "<div>\n",
       "<style scoped>\n",
       "    .dataframe tbody tr th:only-of-type {\n",
       "        vertical-align: middle;\n",
       "    }\n",
       "\n",
       "    .dataframe tbody tr th {\n",
       "        vertical-align: top;\n",
       "    }\n",
       "\n",
       "    .dataframe thead th {\n",
       "        text-align: right;\n",
       "    }\n",
       "</style>\n",
       "<table border=\"1\" class=\"dataframe\">\n",
       "  <thead>\n",
       "    <tr style=\"text-align: right;\">\n",
       "      <th></th>\n",
       "      <th>gf</th>\n",
       "      <th>ga</th>\n",
       "      <th>xg</th>\n",
       "      <th>xga</th>\n",
       "      <th>poss</th>\n",
       "      <th>attendance</th>\n",
       "      <th>notes</th>\n",
       "      <th>sh</th>\n",
       "      <th>sot</th>\n",
       "      <th>dist</th>\n",
       "      <th>fk</th>\n",
       "      <th>pk</th>\n",
       "      <th>pkatt</th>\n",
       "      <th>season</th>\n",
       "    </tr>\n",
       "    <tr>\n",
       "      <th>team</th>\n",
       "      <th></th>\n",
       "      <th></th>\n",
       "      <th></th>\n",
       "      <th></th>\n",
       "      <th></th>\n",
       "      <th></th>\n",
       "      <th></th>\n",
       "      <th></th>\n",
       "      <th></th>\n",
       "      <th></th>\n",
       "      <th></th>\n",
       "      <th></th>\n",
       "      <th></th>\n",
       "      <th></th>\n",
       "    </tr>\n",
       "  </thead>\n",
       "  <tbody>\n",
       "    <tr>\n",
       "      <th>Arsenal</th>\n",
       "      <td>1.807692</td>\n",
       "      <td>1.134615</td>\n",
       "      <td>1.798077</td>\n",
       "      <td>1.213462</td>\n",
       "      <td>54.115385</td>\n",
       "      <td>48106.211538</td>\n",
       "      <td>NaN</td>\n",
       "      <td>15.423077</td>\n",
       "      <td>5.057692</td>\n",
       "      <td>17.350000</td>\n",
       "      <td>0.557692</td>\n",
       "      <td>0.115385</td>\n",
       "      <td>0.173077</td>\n",
       "      <td>2021.269231</td>\n",
       "    </tr>\n",
       "    <tr>\n",
       "      <th>Aston Villa</th>\n",
       "      <td>1.269231</td>\n",
       "      <td>1.442308</td>\n",
       "      <td>1.226923</td>\n",
       "      <td>1.407692</td>\n",
       "      <td>47.000000</td>\n",
       "      <td>39840.288462</td>\n",
       "      <td>NaN</td>\n",
       "      <td>11.846154</td>\n",
       "      <td>4.115385</td>\n",
       "      <td>17.776923</td>\n",
       "      <td>0.500000</td>\n",
       "      <td>0.076923</td>\n",
       "      <td>0.076923</td>\n",
       "      <td>2021.269231</td>\n",
       "    </tr>\n",
       "    <tr>\n",
       "      <th>Bournemouth</th>\n",
       "      <td>1.200000</td>\n",
       "      <td>2.133333</td>\n",
       "      <td>0.766667</td>\n",
       "      <td>1.613333</td>\n",
       "      <td>38.466667</td>\n",
       "      <td>26146.333333</td>\n",
       "      <td>NaN</td>\n",
       "      <td>8.133333</td>\n",
       "      <td>3.200000</td>\n",
       "      <td>15.960000</td>\n",
       "      <td>0.266667</td>\n",
       "      <td>0.000000</td>\n",
       "      <td>0.000000</td>\n",
       "      <td>2022.000000</td>\n",
       "    </tr>\n",
       "    <tr>\n",
       "      <th>Brentford</th>\n",
       "      <td>1.339623</td>\n",
       "      <td>1.528302</td>\n",
       "      <td>1.354717</td>\n",
       "      <td>1.405660</td>\n",
       "      <td>44.735849</td>\n",
       "      <td>27609.867925</td>\n",
       "      <td>NaN</td>\n",
       "      <td>11.094340</td>\n",
       "      <td>3.754717</td>\n",
       "      <td>16.522642</td>\n",
       "      <td>0.301887</td>\n",
       "      <td>0.188679</td>\n",
       "      <td>0.188679</td>\n",
       "      <td>2021.283019</td>\n",
       "    </tr>\n",
       "    <tr>\n",
       "      <th>Brighton and Hove Albion</th>\n",
       "      <td>1.254902</td>\n",
       "      <td>1.196078</td>\n",
       "      <td>1.449020</td>\n",
       "      <td>1.256863</td>\n",
       "      <td>54.470588</td>\n",
       "      <td>36272.627451</td>\n",
       "      <td>NaN</td>\n",
       "      <td>13.078431</td>\n",
       "      <td>4.078431</td>\n",
       "      <td>17.415686</td>\n",
       "      <td>0.392157</td>\n",
       "      <td>0.137255</td>\n",
       "      <td>0.196078</td>\n",
       "      <td>2021.254902</td>\n",
       "    </tr>\n",
       "    <tr>\n",
       "      <th>Burnley</th>\n",
       "      <td>0.894737</td>\n",
       "      <td>1.394737</td>\n",
       "      <td>1.152632</td>\n",
       "      <td>1.681579</td>\n",
       "      <td>40.157895</td>\n",
       "      <td>29837.447368</td>\n",
       "      <td>NaN</td>\n",
       "      <td>10.657895</td>\n",
       "      <td>3.131579</td>\n",
       "      <td>17.452632</td>\n",
       "      <td>0.368421</td>\n",
       "      <td>0.026316</td>\n",
       "      <td>0.052632</td>\n",
       "      <td>2021.000000</td>\n",
       "    </tr>\n",
       "    <tr>\n",
       "      <th>Chelsea</th>\n",
       "      <td>1.788462</td>\n",
       "      <td>0.961538</td>\n",
       "      <td>1.657692</td>\n",
       "      <td>1.105769</td>\n",
       "      <td>60.769231</td>\n",
       "      <td>37952.576923</td>\n",
       "      <td>NaN</td>\n",
       "      <td>14.173077</td>\n",
       "      <td>4.846154</td>\n",
       "      <td>17.450000</td>\n",
       "      <td>0.538462</td>\n",
       "      <td>0.192308</td>\n",
       "      <td>0.211538</td>\n",
       "      <td>2021.269231</td>\n",
       "    </tr>\n",
       "    <tr>\n",
       "      <th>Crystal Palace</th>\n",
       "      <td>1.250000</td>\n",
       "      <td>1.230769</td>\n",
       "      <td>1.305769</td>\n",
       "      <td>1.242308</td>\n",
       "      <td>50.192308</td>\n",
       "      <td>32897.096154</td>\n",
       "      <td>NaN</td>\n",
       "      <td>10.692308</td>\n",
       "      <td>3.692308</td>\n",
       "      <td>16.857692</td>\n",
       "      <td>0.423077</td>\n",
       "      <td>0.115385</td>\n",
       "      <td>0.192308</td>\n",
       "      <td>2021.269231</td>\n",
       "    </tr>\n",
       "    <tr>\n",
       "      <th>Everton</th>\n",
       "      <td>1.018868</td>\n",
       "      <td>1.566038</td>\n",
       "      <td>1.188679</td>\n",
       "      <td>1.628302</td>\n",
       "      <td>41.358491</td>\n",
       "      <td>38005.358491</td>\n",
       "      <td>NaN</td>\n",
       "      <td>11.075472</td>\n",
       "      <td>3.415094</td>\n",
       "      <td>17.328302</td>\n",
       "      <td>0.396226</td>\n",
       "      <td>0.113208</td>\n",
       "      <td>0.132075</td>\n",
       "      <td>2021.283019</td>\n",
       "    </tr>\n",
       "    <tr>\n",
       "      <th>Fulham</th>\n",
       "      <td>1.642857</td>\n",
       "      <td>1.714286</td>\n",
       "      <td>1.307143</td>\n",
       "      <td>1.764286</td>\n",
       "      <td>45.214286</td>\n",
       "      <td>35115.071429</td>\n",
       "      <td>NaN</td>\n",
       "      <td>11.642857</td>\n",
       "      <td>3.714286</td>\n",
       "      <td>16.857143</td>\n",
       "      <td>0.428571</td>\n",
       "      <td>0.285714</td>\n",
       "      <td>0.357143</td>\n",
       "      <td>2022.000000</td>\n",
       "    </tr>\n",
       "    <tr>\n",
       "      <th>Leeds United</th>\n",
       "      <td>1.230769</td>\n",
       "      <td>2.019231</td>\n",
       "      <td>1.363462</td>\n",
       "      <td>1.798077</td>\n",
       "      <td>51.980769</td>\n",
       "      <td>37206.098039</td>\n",
       "      <td>NaN</td>\n",
       "      <td>12.692308</td>\n",
       "      <td>3.846154</td>\n",
       "      <td>18.226923</td>\n",
       "      <td>0.403846</td>\n",
       "      <td>0.115385</td>\n",
       "      <td>0.134615</td>\n",
       "      <td>2021.269231</td>\n",
       "    </tr>\n",
       "    <tr>\n",
       "      <th>Leicester City</th>\n",
       "      <td>1.641509</td>\n",
       "      <td>1.584906</td>\n",
       "      <td>1.313208</td>\n",
       "      <td>1.716981</td>\n",
       "      <td>51.584906</td>\n",
       "      <td>35934.269231</td>\n",
       "      <td>NaN</td>\n",
       "      <td>11.320755</td>\n",
       "      <td>4.320755</td>\n",
       "      <td>18.058491</td>\n",
       "      <td>0.377358</td>\n",
       "      <td>0.056604</td>\n",
       "      <td>0.075472</td>\n",
       "      <td>2021.283019</td>\n",
       "    </tr>\n",
       "    <tr>\n",
       "      <th>Liverpool</th>\n",
       "      <td>2.346154</td>\n",
       "      <td>0.826923</td>\n",
       "      <td>2.294231</td>\n",
       "      <td>1.090385</td>\n",
       "      <td>62.500000</td>\n",
       "      <td>47384.269231</td>\n",
       "      <td>NaN</td>\n",
       "      <td>18.480769</td>\n",
       "      <td>6.230769</td>\n",
       "      <td>16.457692</td>\n",
       "      <td>0.269231</td>\n",
       "      <td>0.134615</td>\n",
       "      <td>0.153846</td>\n",
       "      <td>2021.269231</td>\n",
       "    </tr>\n",
       "    <tr>\n",
       "      <th>Manchester City</th>\n",
       "      <td>2.673077</td>\n",
       "      <td>0.769231</td>\n",
       "      <td>2.388462</td>\n",
       "      <td>0.715385</td>\n",
       "      <td>67.461538</td>\n",
       "      <td>47151.653846</td>\n",
       "      <td>NaN</td>\n",
       "      <td>18.230769</td>\n",
       "      <td>6.173077</td>\n",
       "      <td>16.613462</td>\n",
       "      <td>0.442308</td>\n",
       "      <td>0.192308</td>\n",
       "      <td>0.230769</td>\n",
       "      <td>2021.269231</td>\n",
       "    </tr>\n",
       "    <tr>\n",
       "      <th>Manchester United</th>\n",
       "      <td>1.470588</td>\n",
       "      <td>1.490196</td>\n",
       "      <td>1.523529</td>\n",
       "      <td>1.484314</td>\n",
       "      <td>52.607843</td>\n",
       "      <td>55340.000000</td>\n",
       "      <td>NaN</td>\n",
       "      <td>13.352941</td>\n",
       "      <td>4.705882</td>\n",
       "      <td>17.970588</td>\n",
       "      <td>0.509804</td>\n",
       "      <td>0.078431</td>\n",
       "      <td>0.117647</td>\n",
       "      <td>2021.254902</td>\n",
       "    </tr>\n",
       "    <tr>\n",
       "      <th>Newcastle United</th>\n",
       "      <td>1.377358</td>\n",
       "      <td>1.377358</td>\n",
       "      <td>1.296226</td>\n",
       "      <td>1.449057</td>\n",
       "      <td>43.320755</td>\n",
       "      <td>46204.075472</td>\n",
       "      <td>NaN</td>\n",
       "      <td>12.490566</td>\n",
       "      <td>4.075472</td>\n",
       "      <td>17.994340</td>\n",
       "      <td>0.415094</td>\n",
       "      <td>0.094340</td>\n",
       "      <td>0.094340</td>\n",
       "      <td>2021.283019</td>\n",
       "    </tr>\n",
       "    <tr>\n",
       "      <th>Norwich City</th>\n",
       "      <td>0.605263</td>\n",
       "      <td>2.210526</td>\n",
       "      <td>0.944737</td>\n",
       "      <td>2.165789</td>\n",
       "      <td>42.868421</td>\n",
       "      <td>33690.078947</td>\n",
       "      <td>NaN</td>\n",
       "      <td>9.736842</td>\n",
       "      <td>2.736842</td>\n",
       "      <td>18.828947</td>\n",
       "      <td>0.473684</td>\n",
       "      <td>0.078947</td>\n",
       "      <td>0.078947</td>\n",
       "      <td>2021.000000</td>\n",
       "    </tr>\n",
       "    <tr>\n",
       "      <th>Nottingham Forest</th>\n",
       "      <td>0.733333</td>\n",
       "      <td>2.000000</td>\n",
       "      <td>1.026667</td>\n",
       "      <td>1.620000</td>\n",
       "      <td>40.266667</td>\n",
       "      <td>35515.000000</td>\n",
       "      <td>NaN</td>\n",
       "      <td>9.666667</td>\n",
       "      <td>2.800000</td>\n",
       "      <td>17.120000</td>\n",
       "      <td>0.466667</td>\n",
       "      <td>0.066667</td>\n",
       "      <td>0.133333</td>\n",
       "      <td>2022.000000</td>\n",
       "    </tr>\n",
       "    <tr>\n",
       "      <th>Southampton</th>\n",
       "      <td>1.056604</td>\n",
       "      <td>1.773585</td>\n",
       "      <td>1.220755</td>\n",
       "      <td>1.562264</td>\n",
       "      <td>46.792453</td>\n",
       "      <td>34460.943396</td>\n",
       "      <td>NaN</td>\n",
       "      <td>12.283019</td>\n",
       "      <td>4.056604</td>\n",
       "      <td>17.749057</td>\n",
       "      <td>0.528302</td>\n",
       "      <td>0.075472</td>\n",
       "      <td>0.075472</td>\n",
       "      <td>2021.283019</td>\n",
       "    </tr>\n",
       "    <tr>\n",
       "      <th>Tottenham Hotspur</th>\n",
       "      <td>1.886792</td>\n",
       "      <td>1.150943</td>\n",
       "      <td>1.715094</td>\n",
       "      <td>1.162264</td>\n",
       "      <td>51.471698</td>\n",
       "      <td>49182.173077</td>\n",
       "      <td>NaN</td>\n",
       "      <td>13.283019</td>\n",
       "      <td>5.037736</td>\n",
       "      <td>16.611321</td>\n",
       "      <td>0.377358</td>\n",
       "      <td>0.132075</td>\n",
       "      <td>0.150943</td>\n",
       "      <td>2021.283019</td>\n",
       "    </tr>\n",
       "    <tr>\n",
       "      <th>Watford</th>\n",
       "      <td>0.894737</td>\n",
       "      <td>2.026316</td>\n",
       "      <td>1.163158</td>\n",
       "      <td>1.910526</td>\n",
       "      <td>40.710526</td>\n",
       "      <td>30448.684211</td>\n",
       "      <td>NaN</td>\n",
       "      <td>10.447368</td>\n",
       "      <td>3.236842</td>\n",
       "      <td>18.302632</td>\n",
       "      <td>0.631579</td>\n",
       "      <td>0.026316</td>\n",
       "      <td>0.052632</td>\n",
       "      <td>2021.000000</td>\n",
       "    </tr>\n",
       "    <tr>\n",
       "      <th>West Ham United</th>\n",
       "      <td>1.358491</td>\n",
       "      <td>1.283019</td>\n",
       "      <td>1.450943</td>\n",
       "      <td>1.392453</td>\n",
       "      <td>47.320755</td>\n",
       "      <td>49761.596154</td>\n",
       "      <td>NaN</td>\n",
       "      <td>12.113208</td>\n",
       "      <td>3.679245</td>\n",
       "      <td>17.088679</td>\n",
       "      <td>0.339623</td>\n",
       "      <td>0.113208</td>\n",
       "      <td>0.188679</td>\n",
       "      <td>2021.283019</td>\n",
       "    </tr>\n",
       "    <tr>\n",
       "      <th>Wolverhampton Wanderers</th>\n",
       "      <td>0.867925</td>\n",
       "      <td>1.264151</td>\n",
       "      <td>1.052830</td>\n",
       "      <td>1.575472</td>\n",
       "      <td>49.528302</td>\n",
       "      <td>34831.584906</td>\n",
       "      <td>NaN</td>\n",
       "      <td>10.867925</td>\n",
       "      <td>3.377358</td>\n",
       "      <td>18.290566</td>\n",
       "      <td>0.433962</td>\n",
       "      <td>0.056604</td>\n",
       "      <td>0.056604</td>\n",
       "      <td>2021.283019</td>\n",
       "    </tr>\n",
       "  </tbody>\n",
       "</table>\n",
       "</div>"
      ],
      "text/plain": [
       "                                gf        ga        xg       xga       poss  \\\n",
       "team                                                                          \n",
       "Arsenal                   1.807692  1.134615  1.798077  1.213462  54.115385   \n",
       "Aston Villa               1.269231  1.442308  1.226923  1.407692  47.000000   \n",
       "Bournemouth               1.200000  2.133333  0.766667  1.613333  38.466667   \n",
       "Brentford                 1.339623  1.528302  1.354717  1.405660  44.735849   \n",
       "Brighton and Hove Albion  1.254902  1.196078  1.449020  1.256863  54.470588   \n",
       "Burnley                   0.894737  1.394737  1.152632  1.681579  40.157895   \n",
       "Chelsea                   1.788462  0.961538  1.657692  1.105769  60.769231   \n",
       "Crystal Palace            1.250000  1.230769  1.305769  1.242308  50.192308   \n",
       "Everton                   1.018868  1.566038  1.188679  1.628302  41.358491   \n",
       "Fulham                    1.642857  1.714286  1.307143  1.764286  45.214286   \n",
       "Leeds United              1.230769  2.019231  1.363462  1.798077  51.980769   \n",
       "Leicester City            1.641509  1.584906  1.313208  1.716981  51.584906   \n",
       "Liverpool                 2.346154  0.826923  2.294231  1.090385  62.500000   \n",
       "Manchester City           2.673077  0.769231  2.388462  0.715385  67.461538   \n",
       "Manchester United         1.470588  1.490196  1.523529  1.484314  52.607843   \n",
       "Newcastle United          1.377358  1.377358  1.296226  1.449057  43.320755   \n",
       "Norwich City              0.605263  2.210526  0.944737  2.165789  42.868421   \n",
       "Nottingham Forest         0.733333  2.000000  1.026667  1.620000  40.266667   \n",
       "Southampton               1.056604  1.773585  1.220755  1.562264  46.792453   \n",
       "Tottenham Hotspur         1.886792  1.150943  1.715094  1.162264  51.471698   \n",
       "Watford                   0.894737  2.026316  1.163158  1.910526  40.710526   \n",
       "West Ham United           1.358491  1.283019  1.450943  1.392453  47.320755   \n",
       "Wolverhampton Wanderers   0.867925  1.264151  1.052830  1.575472  49.528302   \n",
       "\n",
       "                            attendance  notes         sh       sot       dist  \\\n",
       "team                                                                            \n",
       "Arsenal                   48106.211538    NaN  15.423077  5.057692  17.350000   \n",
       "Aston Villa               39840.288462    NaN  11.846154  4.115385  17.776923   \n",
       "Bournemouth               26146.333333    NaN   8.133333  3.200000  15.960000   \n",
       "Brentford                 27609.867925    NaN  11.094340  3.754717  16.522642   \n",
       "Brighton and Hove Albion  36272.627451    NaN  13.078431  4.078431  17.415686   \n",
       "Burnley                   29837.447368    NaN  10.657895  3.131579  17.452632   \n",
       "Chelsea                   37952.576923    NaN  14.173077  4.846154  17.450000   \n",
       "Crystal Palace            32897.096154    NaN  10.692308  3.692308  16.857692   \n",
       "Everton                   38005.358491    NaN  11.075472  3.415094  17.328302   \n",
       "Fulham                    35115.071429    NaN  11.642857  3.714286  16.857143   \n",
       "Leeds United              37206.098039    NaN  12.692308  3.846154  18.226923   \n",
       "Leicester City            35934.269231    NaN  11.320755  4.320755  18.058491   \n",
       "Liverpool                 47384.269231    NaN  18.480769  6.230769  16.457692   \n",
       "Manchester City           47151.653846    NaN  18.230769  6.173077  16.613462   \n",
       "Manchester United         55340.000000    NaN  13.352941  4.705882  17.970588   \n",
       "Newcastle United          46204.075472    NaN  12.490566  4.075472  17.994340   \n",
       "Norwich City              33690.078947    NaN   9.736842  2.736842  18.828947   \n",
       "Nottingham Forest         35515.000000    NaN   9.666667  2.800000  17.120000   \n",
       "Southampton               34460.943396    NaN  12.283019  4.056604  17.749057   \n",
       "Tottenham Hotspur         49182.173077    NaN  13.283019  5.037736  16.611321   \n",
       "Watford                   30448.684211    NaN  10.447368  3.236842  18.302632   \n",
       "West Ham United           49761.596154    NaN  12.113208  3.679245  17.088679   \n",
       "Wolverhampton Wanderers   34831.584906    NaN  10.867925  3.377358  18.290566   \n",
       "\n",
       "                                fk        pk     pkatt       season  \n",
       "team                                                                 \n",
       "Arsenal                   0.557692  0.115385  0.173077  2021.269231  \n",
       "Aston Villa               0.500000  0.076923  0.076923  2021.269231  \n",
       "Bournemouth               0.266667  0.000000  0.000000  2022.000000  \n",
       "Brentford                 0.301887  0.188679  0.188679  2021.283019  \n",
       "Brighton and Hove Albion  0.392157  0.137255  0.196078  2021.254902  \n",
       "Burnley                   0.368421  0.026316  0.052632  2021.000000  \n",
       "Chelsea                   0.538462  0.192308  0.211538  2021.269231  \n",
       "Crystal Palace            0.423077  0.115385  0.192308  2021.269231  \n",
       "Everton                   0.396226  0.113208  0.132075  2021.283019  \n",
       "Fulham                    0.428571  0.285714  0.357143  2022.000000  \n",
       "Leeds United              0.403846  0.115385  0.134615  2021.269231  \n",
       "Leicester City            0.377358  0.056604  0.075472  2021.283019  \n",
       "Liverpool                 0.269231  0.134615  0.153846  2021.269231  \n",
       "Manchester City           0.442308  0.192308  0.230769  2021.269231  \n",
       "Manchester United         0.509804  0.078431  0.117647  2021.254902  \n",
       "Newcastle United          0.415094  0.094340  0.094340  2021.283019  \n",
       "Norwich City              0.473684  0.078947  0.078947  2021.000000  \n",
       "Nottingham Forest         0.466667  0.066667  0.133333  2022.000000  \n",
       "Southampton               0.528302  0.075472  0.075472  2021.283019  \n",
       "Tottenham Hotspur         0.377358  0.132075  0.150943  2021.283019  \n",
       "Watford                   0.631579  0.026316  0.052632  2021.000000  \n",
       "West Ham United           0.339623  0.113208  0.188679  2021.283019  \n",
       "Wolverhampton Wanderers   0.433962  0.056604  0.056604  2021.283019  "
      ]
     },
     "execution_count": 48,
     "metadata": {},
     "output_type": "execute_result"
    }
   ],
   "source": [
    "data.groupby('team').mean()"
   ]
  },
  {
   "cell_type": "code",
   "execution_count": 49,
   "id": "9229cc73",
   "metadata": {},
   "outputs": [],
   "source": [
    "data_un = data.groupby('team').mean()"
   ]
  },
  {
   "cell_type": "code",
   "execution_count": 50,
   "id": "5b32a923",
   "metadata": {},
   "outputs": [],
   "source": [
    "data_un.drop(['notes','season'], axis=1, inplace=True)"
   ]
  },
  {
   "cell_type": "code",
   "execution_count": 51,
   "id": "3559d38d",
   "metadata": {},
   "outputs": [
    {
     "data": {
      "text/plain": [
       "array(['Arsenal', 'Manchester City', 'Newcastle United',\n",
       "       'Tottenham Hotspur', 'Manchester United', 'Liverpool',\n",
       "       'Brighton and Hove Albion', 'Chelsea', 'Fulham', 'Brentford',\n",
       "       'Crystal Palace', 'Leicester City', 'Bournemouth', 'Leeds United',\n",
       "       'Aston Villa', 'West Ham United', 'Everton', 'Nottingham Forest',\n",
       "       'Southampton', 'Wolverhampton Wanderers', 'Burnley', 'Watford',\n",
       "       'Norwich City'], dtype=object)"
      ]
     },
     "execution_count": 51,
     "metadata": {},
     "output_type": "execute_result"
    }
   ],
   "source": [
    "labels=data.team.unique()\n",
    "labels"
   ]
  },
  {
   "cell_type": "code",
   "execution_count": 52,
   "id": "8714b9bf",
   "metadata": {},
   "outputs": [],
   "source": [
    "teams = np.sort(labels)"
   ]
  },
  {
   "cell_type": "code",
   "execution_count": 53,
   "id": "2411e655",
   "metadata": {},
   "outputs": [],
   "source": [
    "pca = PCA(n_components=2)\n",
    "\n",
    "data_pc = pd.DataFrame(pca.fit_transform(data_un), columns=['PC1', 'PC2'], index= teams)\n",
    "\n"
   ]
  },
  {
   "cell_type": "code",
   "execution_count": 54,
   "id": "e9763aa9",
   "metadata": {},
   "outputs": [
    {
     "data": {
      "text/html": [
       "<div>\n",
       "<style scoped>\n",
       "    .dataframe tbody tr th:only-of-type {\n",
       "        vertical-align: middle;\n",
       "    }\n",
       "\n",
       "    .dataframe tbody tr th {\n",
       "        vertical-align: top;\n",
       "    }\n",
       "\n",
       "    .dataframe thead th {\n",
       "        text-align: right;\n",
       "    }\n",
       "</style>\n",
       "<table border=\"1\" class=\"dataframe\">\n",
       "  <thead>\n",
       "    <tr style=\"text-align: right;\">\n",
       "      <th></th>\n",
       "      <th>PC1</th>\n",
       "      <th>PC2</th>\n",
       "    </tr>\n",
       "  </thead>\n",
       "  <tbody>\n",
       "    <tr>\n",
       "      <th>Arsenal</th>\n",
       "      <td>9458.678475</td>\n",
       "      <td>0.528535</td>\n",
       "    </tr>\n",
       "    <tr>\n",
       "      <th>Aston Villa</th>\n",
       "      <td>1192.752137</td>\n",
       "      <td>-2.636146</td>\n",
       "    </tr>\n",
       "    <tr>\n",
       "      <th>Bournemouth</th>\n",
       "      <td>-12501.206110</td>\n",
       "      <td>-4.046732</td>\n",
       "    </tr>\n",
       "    <tr>\n",
       "      <th>Brentford</th>\n",
       "      <td>-11037.667743</td>\n",
       "      <td>1.962519</td>\n",
       "    </tr>\n",
       "    <tr>\n",
       "      <th>Brighton and Hove Albion</th>\n",
       "      <td>-2374.904080</td>\n",
       "      <td>6.913891</td>\n",
       "    </tr>\n",
       "    <tr>\n",
       "      <th>Burnley</th>\n",
       "      <td>-8810.091241</td>\n",
       "      <td>-3.931136</td>\n",
       "    </tr>\n",
       "    <tr>\n",
       "      <th>Chelsea</th>\n",
       "      <td>-694.951247</td>\n",
       "      <td>12.403767</td>\n",
       "    </tr>\n",
       "    <tr>\n",
       "      <th>Crystal Palace</th>\n",
       "      <td>-5750.437612</td>\n",
       "      <td>4.113708</td>\n",
       "    </tr>\n",
       "    <tr>\n",
       "      <th>Everton</th>\n",
       "      <td>-642.180730</td>\n",
       "      <td>-7.289803</td>\n",
       "    </tr>\n",
       "    <tr>\n",
       "      <th>Fulham</th>\n",
       "      <td>-3532.465121</td>\n",
       "      <td>-1.729753</td>\n",
       "    </tr>\n",
       "    <tr>\n",
       "      <th>Leeds United</th>\n",
       "      <td>-1441.435095</td>\n",
       "      <td>3.803711</td>\n",
       "    </tr>\n",
       "    <tr>\n",
       "      <th>Leicester City</th>\n",
       "      <td>-2713.264130</td>\n",
       "      <td>3.899985</td>\n",
       "    </tr>\n",
       "    <tr>\n",
       "      <th>Liverpool</th>\n",
       "      <td>8736.741489</td>\n",
       "      <td>9.932670</td>\n",
       "    </tr>\n",
       "    <tr>\n",
       "      <th>Manchester City</th>\n",
       "      <td>8504.128713</td>\n",
       "      <td>14.811110</td>\n",
       "    </tr>\n",
       "    <tr>\n",
       "      <th>Manchester United</th>\n",
       "      <td>16692.464432</td>\n",
       "      <td>-5.624631</td>\n",
       "    </tr>\n",
       "    <tr>\n",
       "      <th>Newcastle United</th>\n",
       "      <td>7556.536303</td>\n",
       "      <td>-9.649449</td>\n",
       "    </tr>\n",
       "    <tr>\n",
       "      <th>Norwich City</th>\n",
       "      <td>-4957.459162</td>\n",
       "      <td>-3.858428</td>\n",
       "    </tr>\n",
       "    <tr>\n",
       "      <th>Nottingham Forest</th>\n",
       "      <td>-3132.539760</td>\n",
       "      <td>-7.345860</td>\n",
       "    </tr>\n",
       "    <tr>\n",
       "      <th>Southampton</th>\n",
       "      <td>-4186.592075</td>\n",
       "      <td>0.297659</td>\n",
       "    </tr>\n",
       "    <tr>\n",
       "      <th>Tottenham Hotspur</th>\n",
       "      <td>10534.637986</td>\n",
       "      <td>-3.125040</td>\n",
       "    </tr>\n",
       "    <tr>\n",
       "      <th>Watford</th>\n",
       "      <td>-8198.854271</td>\n",
       "      <td>-3.833709</td>\n",
       "    </tr>\n",
       "    <tr>\n",
       "      <th>West Ham United</th>\n",
       "      <td>11114.058391</td>\n",
       "      <td>-7.912815</td>\n",
       "    </tr>\n",
       "    <tr>\n",
       "      <th>Wolverhampton Wanderers</th>\n",
       "      <td>-3815.949550</td>\n",
       "      <td>2.315946</td>\n",
       "    </tr>\n",
       "  </tbody>\n",
       "</table>\n",
       "</div>"
      ],
      "text/plain": [
       "                                   PC1        PC2\n",
       "Arsenal                    9458.678475   0.528535\n",
       "Aston Villa                1192.752137  -2.636146\n",
       "Bournemouth              -12501.206110  -4.046732\n",
       "Brentford                -11037.667743   1.962519\n",
       "Brighton and Hove Albion  -2374.904080   6.913891\n",
       "Burnley                   -8810.091241  -3.931136\n",
       "Chelsea                    -694.951247  12.403767\n",
       "Crystal Palace            -5750.437612   4.113708\n",
       "Everton                    -642.180730  -7.289803\n",
       "Fulham                    -3532.465121  -1.729753\n",
       "Leeds United              -1441.435095   3.803711\n",
       "Leicester City            -2713.264130   3.899985\n",
       "Liverpool                  8736.741489   9.932670\n",
       "Manchester City            8504.128713  14.811110\n",
       "Manchester United         16692.464432  -5.624631\n",
       "Newcastle United           7556.536303  -9.649449\n",
       "Norwich City              -4957.459162  -3.858428\n",
       "Nottingham Forest         -3132.539760  -7.345860\n",
       "Southampton               -4186.592075   0.297659\n",
       "Tottenham Hotspur         10534.637986  -3.125040\n",
       "Watford                   -8198.854271  -3.833709\n",
       "West Ham United           11114.058391  -7.912815\n",
       "Wolverhampton Wanderers   -3815.949550   2.315946"
      ]
     },
     "execution_count": 54,
     "metadata": {},
     "output_type": "execute_result"
    }
   ],
   "source": [
    "data_pc"
   ]
  },
  {
   "cell_type": "code",
   "execution_count": 55,
   "id": "1a9c666b",
   "metadata": {},
   "outputs": [
    {
     "data": {
      "text/plain": [
       "<Figure size 1600x1400 with 0 Axes>"
      ]
     },
     "metadata": {},
     "output_type": "display_data"
    },
    {
     "data": {
      "image/png": "[encoded data removed]",
      "text/plain": [
       "<Figure size 800x550 with 1 Axes>"
      ]
     },
     "metadata": {},
     "output_type": "display_data"
    }
   ],
   "source": [
    "plt.figure(figsize=(16,14))\n",
    "plt.style.use('seaborn')\n",
    "\n",
    "\n",
    "x = data_pc['PC1']\n",
    "y = data_pc['PC2']\n",
    "\n",
    "teams = data_pc.index\n",
    "\n",
    "fig, ax = plt.subplots()\n",
    "ax.scatter(x, y);\n",
    "\n",
    "for i, txt in enumerate(teams):\n",
    "    ax.annotate(txt, (x[i], y[i]));"
   ]
  },
  {
   "cell_type": "code",
   "execution_count": 56,
   "id": "755984bf",
   "metadata": {},
   "outputs": [
    {
     "data": {
      "text/plain": [
       "Text(0.5, 1.0, 'Elbow Curve to find optimum K')"
      ]
     },
     "execution_count": 56,
     "metadata": {},
     "output_type": "execute_result"
    },
    {
     "data": {
      "image/png": "[encoded data removed]",
      "text/plain": [
       "<Figure size 1000x500 with 1 Axes>"
      ]
     },
     "metadata": {},
     "output_type": "display_data"
    }
   ],
   "source": [
    "k = list(range(2,11))\n",
    "sum_of_squared_distances = []\n",
    "for i in k:\n",
    "    kmeans = KMeans(n_clusters=i)\n",
    "    kmeans.fit(data_pc)\n",
    "    sum_of_squared_distances.append(kmeans.inertia_)\n",
    "\n",
    "plt.figure(figsize=(10, 5))\n",
    "plt.plot(k, sum_of_squared_distances, 'go--')\n",
    "plt.xlabel('Number of Clusters')\n",
    "plt.ylabel('Within Cluster Sum of squares')\n",
    "plt.title('Elbow Curve to find optimum K')"
   ]
  },
  {
   "cell_type": "code",
   "execution_count": 60,
   "id": "8375d566",
   "metadata": {},
   "outputs": [
    {
     "data": {
      "text/plain": [
       "KMeans(n_clusters=5)"
      ]
     },
     "execution_count": 60,
     "metadata": {},
     "output_type": "execute_result"
    }
   ],
   "source": [
    "kmeans=KMeans(n_clusters=5)\n",
    "kmeans.fit(data_pc)"
   ]
  },
  {
   "cell_type": "code",
   "execution_count": 61,
   "id": "3f480a8b",
   "metadata": {},
   "outputs": [],
   "source": [
    "labels1 = kmeans.labels_\n",
    "centroids1 = kmeans.cluster_centers_"
   ]
  },
  {
   "cell_type": "code",
   "execution_count": 62,
   "id": "a5c018a3",
   "metadata": {},
   "outputs": [
    {
     "data": {
      "text/plain": [
       "<Figure size 1600x1400 with 0 Axes>"
      ]
     },
     "metadata": {},
     "output_type": "display_data"
    },
    {
     "data": {
      "image/png": "[encoded data removed]",
      "text/plain": [
       "<Figure size 800x550 with 1 Axes>"
      ]
     },
     "metadata": {},
     "output_type": "display_data"
    }
   ],
   "source": [
    "plt.figure(figsize=(16,14))\n",
    "plt.style.use('seaborn')\n",
    "\n",
    "teams = data_pc.index\n",
    "\n",
    "fig, ax = plt.subplots()\n",
    "plt.scatter( x = 'PC1' ,y = 'PC2' , data = data_pc, s = 100, c =labels1, cmap='viridis');\n",
    "plt.scatter(x = centroids1[: , 0] , y =  centroids1[: , 1] , s = 200 , c = 'red' , alpha = 0.5);\n",
    "\n",
    "for i, txt in enumerate(teams):\n",
    "    ax.annotate(txt, (x[i], y[i]), (x[i], y[i]+0.75));"
   ]
  },
  {
   "cell_type": "code",
   "execution_count": null,
   "id": "ab082c4d",
   "metadata": {},
   "outputs": [],
   "source": []
  },
  {
   "cell_type": "code",
   "execution_count": null,
   "id": "c6964c66",
   "metadata": {},
   "outputs": [],
   "source": []
  }
 ],
 "metadata": {
  "kernelspec": {
   "display_name": "Python 3 (ipykernel)",
   "language": "python",
   "name": "python3"
  },
  "language_info": {
   "codemirror_mode": {
    "name": "ipython",
    "version": 3
   },
   "file_extension": ".py",
   "mimetype": "text/x-python",
   "name": "python",
   "nbconvert_exporter": "python",
   "pygments_lexer": "ipython3",
   "version": "3.9.13"
  }
 },
 "nbformat": 4,
 "nbformat_minor": 5
}
